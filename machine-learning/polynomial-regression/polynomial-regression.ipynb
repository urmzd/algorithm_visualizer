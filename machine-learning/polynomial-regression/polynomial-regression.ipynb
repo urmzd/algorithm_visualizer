{
 "metadata": {
  "language_info": {
   "codemirror_mode": {
    "name": "ipython",
    "version": 3
   },
   "file_extension": ".py",
   "mimetype": "text/x-python",
   "name": "python",
   "nbconvert_exporter": "python",
   "pygments_lexer": "ipython3",
   "version": "3.8.5-final"
  },
  "orig_nbformat": 2,
  "kernelspec": {
   "name": "env",
   "display_name": "env"
  }
 },
 "nbformat": 4,
 "nbformat_minor": 2,
 "cells": [
  {
   "cell_type": "code",
   "execution_count": 1,
   "metadata": {},
   "outputs": [],
   "source": [
    "import numpy as np;\n",
    "import pandas as pd;\n",
    "import matplotlib.pyplot as plt;"
   ]
  },
  {
   "cell_type": "code",
   "execution_count": 2,
   "metadata": {},
   "outputs": [
    {
     "output_type": "execute_result",
     "data": {
      "text/plain": [
       "   yyyy     month       tmax  tmin\n",
       "0  1908   January        5.0  -1.4\n",
       "1  1908  February        7.3   1.9\n",
       "2  1908     March        6.2   0.3\n",
       "3  1908     April  Missing_1   2.1\n",
       "4  1908       May  Missing_2   7.7"
      ],
      "text/html": "<div>\n<style scoped>\n    .dataframe tbody tr th:only-of-type {\n        vertical-align: middle;\n    }\n\n    .dataframe tbody tr th {\n        vertical-align: top;\n    }\n\n    .dataframe thead th {\n        text-align: right;\n    }\n</style>\n<table border=\"1\" class=\"dataframe\">\n  <thead>\n    <tr style=\"text-align: right;\">\n      <th></th>\n      <th>yyyy</th>\n      <th>month</th>\n      <th>tmax</th>\n      <th>tmin</th>\n    </tr>\n  </thead>\n  <tbody>\n    <tr>\n      <th>0</th>\n      <td>1908</td>\n      <td>January</td>\n      <td>5.0</td>\n      <td>-1.4</td>\n    </tr>\n    <tr>\n      <th>1</th>\n      <td>1908</td>\n      <td>February</td>\n      <td>7.3</td>\n      <td>1.9</td>\n    </tr>\n    <tr>\n      <th>2</th>\n      <td>1908</td>\n      <td>March</td>\n      <td>6.2</td>\n      <td>0.3</td>\n    </tr>\n    <tr>\n      <th>3</th>\n      <td>1908</td>\n      <td>April</td>\n      <td>Missing_1</td>\n      <td>2.1</td>\n    </tr>\n    <tr>\n      <th>4</th>\n      <td>1908</td>\n      <td>May</td>\n      <td>Missing_2</td>\n      <td>7.7</td>\n    </tr>\n  </tbody>\n</table>\n</div>"
     },
     "metadata": {},
     "execution_count": 2
    }
   ],
   "source": [
    "df = pd.read_table('./input00.txt', skiprows=1)\n",
    "df.head()"
   ]
  },
  {
   "cell_type": "code",
   "execution_count": 3,
   "metadata": {},
   "outputs": [
    {
     "output_type": "execute_result",
     "data": {
      "text/plain": [
       "0    5.0\n",
       "1    7.3\n",
       "2    6.2\n",
       "3    NaN\n",
       "4    NaN\n",
       "Name: tmax, dtype: float64"
      ]
     },
     "metadata": {},
     "execution_count": 3
    }
   ],
   "source": [
    "df.tmax = pd.to_numeric(df.tmax, errors=\"coerce\")\n",
    "df.tmin = pd.to_numeric(df.min, errors=\"coerce\")\n",
    "\n",
    "### 70/30 testing split for each model.and\n",
    "\n",
    "df.tmax.head()"
   ]
  }
 ]
}